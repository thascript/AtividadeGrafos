{
  "nbformat": 4,
  "nbformat_minor": 0,
  "metadata": {
    "colab": {
      "provenance": []
    },
    "kernelspec": {
      "name": "python3",
      "display_name": "Python 3"
    },
    "language_info": {
      "name": "python"
    }
  },
  "cells": [
    {
      "cell_type": "code",
      "source": [
        "import pandas as pd\n",
        "import requests\n",
        "from io import StringIO"
      ],
      "metadata": {
        "id": "hdHf0tkk6OZJ"
      },
      "execution_count": 17,
      "outputs": []
    },
    {
      "cell_type": "code",
      "execution_count": 20,
      "metadata": {
        "colab": {
          "base_uri": "https://localhost:8080/"
        },
        "id": "cTFm98oo55kx",
        "outputId": "702b04a8-1db1-48cc-c05e-9da37ceed747"
      },
      "outputs": [
        {
          "output_type": "stream",
          "name": "stdout",
          "text": [
            "Escolha uma das bases de dados abaixo:\n",
            "          [1] - att48_d.txt\n",
            "          [2] - dantzig42_d.txt\n",
            "          [3] - five_d.txt\n",
            "          [4] - fri26_d.txt\n",
            "          [5] - gr17_d.txt\n",
            "          [6] - p01_d.txt\n",
            "          \n",
            "Opção: 5\n",
            "      V1   V2   V3   V4   V5   V6   V7   V8   V9  V10  V11  V12  V13  V14  \\\n",
            "V1     0  633  257   91  412  150   80  134  259  505  353  324   70  211   \n",
            "V2   633    0  390  661  227  488  572  530  555  289  282  638  567  466   \n",
            "V3   257  390    0  228  169  112  196  154  372  262  110  437  191   74   \n",
            "V4    91  661  228    0  383  120   77  105  175  476  324  240   27  182   \n",
            "V5   412  227  169  383    0  267  351  309  338  196   61  421  346  243   \n",
            "V6   150  488  112  120  267    0   63   34  264  360  208  329   83  105   \n",
            "V7    80  572  196   77  351   63    0   29  232  444  292  297   47  150   \n",
            "V8   134  530  154  105  309   34   29    0  249  402  250  314   68  108   \n",
            "V9   259  555  372  175  338  264  232  249    0  495  352   95  189  326   \n",
            "V10  505  289  262  476  196  360  444  402  495    0  154  578  439  336   \n",
            "V11  353  282  110  324   61  208  292  250  352  154    0  435  287  184   \n",
            "V12  324  638  437  240  421  329  297  314   95  578  435    0  254  391   \n",
            "V13   70  567  191   27  346   83   47   68  189  439  287  254    0  145   \n",
            "V14  211  466   74  182  243  105  150  108  326  336  184  391  145    0   \n",
            "V15  268  420   53  239  199  123  207  165  383  240  140  448  202   57   \n",
            "V16  246  745  472  237  528  364  332  349  202  685  542  157  289  426   \n",
            "V17  121  518  142   84  297   35   29   36  236  390  238  301   55   96   \n",
            "\n",
            "     V15  V16  V17  \n",
            "V1   268  246  121  \n",
            "V2   420  745  518  \n",
            "V3    53  472  142  \n",
            "V4   239  237   84  \n",
            "V5   199  528  297  \n",
            "V6   123  364   35  \n",
            "V7   207  332   29  \n",
            "V8   165  349   36  \n",
            "V9   383  202  236  \n",
            "V10  240  685  390  \n",
            "V11  140  542  238  \n",
            "V12  448  157  301  \n",
            "V13  202  289   55  \n",
            "V14   57  426   96  \n",
            "V15    0  483  153  \n",
            "V16  483    0  336  \n",
            "V17  153  336    0  \n",
            "[[  0 633 257  91 412 150  80 134 259 505 353 324  70 211 268 246 121]\n",
            " [633   0 390 661 227 488 572 530 555 289 282 638 567 466 420 745 518]\n",
            " [257 390   0 228 169 112 196 154 372 262 110 437 191  74  53 472 142]\n",
            " [ 91 661 228   0 383 120  77 105 175 476 324 240  27 182 239 237  84]\n",
            " [412 227 169 383   0 267 351 309 338 196  61 421 346 243 199 528 297]\n",
            " [150 488 112 120 267   0  63  34 264 360 208 329  83 105 123 364  35]\n",
            " [ 80 572 196  77 351  63   0  29 232 444 292 297  47 150 207 332  29]\n",
            " [134 530 154 105 309  34  29   0 249 402 250 314  68 108 165 349  36]\n",
            " [259 555 372 175 338 264 232 249   0 495 352  95 189 326 383 202 236]\n",
            " [505 289 262 476 196 360 444 402 495   0 154 578 439 336 240 685 390]\n",
            " [353 282 110 324  61 208 292 250 352 154   0 435 287 184 140 542 238]\n",
            " [324 638 437 240 421 329 297 314  95 578 435   0 254 391 448 157 301]\n",
            " [ 70 567 191  27 346  83  47  68 189 439 287 254   0 145 202 289  55]\n",
            " [211 466  74 182 243 105 150 108 326 336 184 391 145   0  57 426  96]\n",
            " [268 420  53 239 199 123 207 165 383 240 140 448 202  57   0 483 153]\n",
            " [246 745 472 237 528 364 332 349 202 685 542 157 289 426 483   0 336]\n",
            " [121 518 142  84 297  35  29  36 236 390 238 301  55  96 153 336   0]]\n"
          ]
        }
      ],
      "source": [
        "# URL do arquivo de dados\n",
        "url_bases = [\"https://people.sc.fsu.edu/~jburkardt/datasets/tsp/att48_d.txt\",\n",
        "       \"https://people.sc.fsu.edu/~jburkardt/datasets/tsp/dantzig42_d.txt\",\n",
        "       \"https://people.sc.fsu.edu/~jburkardt/datasets/tsp/five_d.txt\",\n",
        "       \"https://people.sc.fsu.edu/~jburkardt/datasets/tsp/fri26_d.txt\",\n",
        "       \"https://people.sc.fsu.edu/~jburkardt/datasets/tsp/gr17_d.txt\",\n",
        "       \"https://people.sc.fsu.edu/~jburkardt/datasets/tsp/p01_d.txt\"\n",
        "       ]\n",
        "try:\n",
        "    print(\"\"\"Escolha uma das bases de dados abaixo:\n",
        "          [1] - att48_d.txt\n",
        "          [2] - dantzig42_d.txt\n",
        "          [3] - five_d.txt\n",
        "          [4] - fri26_d.txt\n",
        "          [5] - gr17_d.txt\n",
        "          [6] - p01_d.txt\n",
        "          \"\"\")\n",
        "    escolha = int(input(\"Opção: \"))\n",
        "    url = url_bases[escolha - 1]\n",
        "    # Obtendo os dados da URL\n",
        "    response = requests.get(url)\n",
        "    response.raise_for_status()\n",
        "\n",
        "    data = StringIO(response.text)\n",
        "\n",
        "    # Lendo os dados e criando um DataFrame\n",
        "    df = pd.read_csv(data, delimiter=\"\\s+\", header=None)\n",
        "\n",
        "    # Renomeando as colunas e índices\n",
        "    df.columns = [f\"V{i + 1}\" for i in range(df.shape[1])]\n",
        "    df.index = [f\"V{i + 1}\" for i in range(df.shape[0])]\n",
        "    print(df)\n",
        "\n",
        "    # Transformando Matriz de Distâncias em array\n",
        "    lista_dataset = df.values.astype(int)\n",
        "    print(lista_dataset)\n",
        "\n",
        "except Exception as e:\n",
        "    print(f\"Ops... Ocorreu um erro. \\nEscolha uma opçao dentre os valores acima\")\n"
      ]
    }
  ]
}